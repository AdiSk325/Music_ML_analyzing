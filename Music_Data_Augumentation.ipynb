{
 "cells": [
  {
   "cell_type": "code",
   "execution_count": 1,
   "metadata": {},
   "outputs": [
    {
     "name": "stdout",
     "output_type": "stream",
     "text": [
      "pygame 1.9.6\n",
      "Hello from the pygame community. https://www.pygame.org/contribute.html\n"
     ]
    }
   ],
   "source": [
    "from MA_utils import *\n",
    "from MA_utils.AudioConnection import AudioConn\n",
    "from MA_utils.audio_data_augumentation import AudioDataAugumentation\n",
    "\n",
    "AC = AudioConn()\n",
    "AudioDA = AudioDataAugumentation()"
   ]
  },
  {
   "cell_type": "code",
   "execution_count": 2,
   "metadata": {},
   "outputs": [],
   "source": [
    "INPUT_DIR = os.path.realpath(AC.DATA_DIR) + '\\\\'\n",
    "OUTPUT_DIR = os.path.realpath(os.path.join('.','data_DA_output')) + '\\\\'\n",
    "#if not os.path.exists(OUTPUT_DIR): os.mkdir(OUTPUT_DIR)"
   ]
  },
  {
   "cell_type": "code",
   "execution_count": 3,
   "metadata": {},
   "outputs": [
    {
     "name": "stdout",
     "output_type": "stream",
     "text": [
      "E:\\ML_Learning\\Music_analysis\\data\\\n",
      "E:\\ML_Learning\\Music_analysis\\data_DA_output\\\n"
     ]
    }
   ],
   "source": [
    "print(INPUT_DIR)\n",
    "print(OUTPUT_DIR)"
   ]
  },
  {
   "cell_type": "code",
   "execution_count": 4,
   "metadata": {},
   "outputs": [],
   "source": [
    "def clone_input_dir_structure(INPUT_DIR, OUTPUT_DIR):\n",
    "    for dirpath, dirnames, filenames in os.walk(INPUT_DIR):\n",
    "        structure = os.path.join(OUTPUT_DIR, dirpath[len(INPUT_DIR):])\n",
    "        if not os.path.isdir(structure):\n",
    "            os.mkdir(structure)\n",
    "        else:\n",
    "            print(f\"{structure} \\n This folder does already exits! \\n ----------------------------------------------- \\n\")"
   ]
  },
  {
   "cell_type": "code",
   "execution_count": 9,
   "metadata": {
    "scrolled": true
   },
   "outputs": [],
   "source": [
    "clone_input_dir_structure(INPUT_DIR, OUTPUT_DIR)"
   ]
  },
  {
   "cell_type": "code",
   "execution_count": 10,
   "metadata": {},
   "outputs": [],
   "source": [
    "def create_new_data_from_raw_input(INPUT_DIR, OUTPUT_DIR):\n",
    "    for dirpath, dirnames, filenames in os.walk(INPUT_DIR):\n",
    "            for filename in filenames: \n",
    "                if '.wav' in filename:\n",
    "                    new_subdir = ''\n",
    "                    output_path = os.path.join(OUTPUT_DIR, dirpath[len(INPUT_DIR):], new_subdir, filename)\n",
    "                    AudioDA.transpose_wav_file(path_input = os.path.join(dirpath, filename),\n",
    "                                               path_output = output_path,\n",
    "                                               n_steps=0)\n",
    "                    "
   ]
  },
  {
   "cell_type": "code",
   "execution_count": 11,
   "metadata": {},
   "outputs": [],
   "source": [
    "create_new_data_from_raw_input(INPUT_DIR, OUTPUT_DIR)"
   ]
  },
  {
   "cell_type": "code",
   "execution_count": 13,
   "metadata": {},
   "outputs": [],
   "source": [
    "def generate_transpose_matrix(labels):\n",
    "    result_mtx = pd.DataFrame(labels)\n",
    "    for idx, label in enumerate(labels):\n",
    "        labels.append(labels.pop(0))\n",
    "        result_mtx[idx+1] = pd.Series(labels)\n",
    "    return result_mtx"
   ]
  },
  {
   "cell_type": "code",
   "execution_count": 12,
   "metadata": {},
   "outputs": [],
   "source": [
    "if not os.path.exists(os.path.join(OUTPUT_DIR, 'labels')):\n",
    "    os.mkdir(os.path.join(OUTPUT_DIR, 'labels'))\n",
    "\n",
    "for label in ['C', 'C#', 'D', 'D#', 'E', 'F', 'F#', 'G', 'G#', 'A', 'A#', 'B']:\n",
    "    if not os.path.exists(os.path.join(OUTPUT_DIR, 'labels', label)):\n",
    "        os.mkdir(os.path.join(OUTPUT_DIR, 'labels', label))"
   ]
  },
  {
   "cell_type": "markdown",
   "metadata": {},
   "source": [
    "Transponujemy nagrania do odpowiednich tonacji"
   ]
  },
  {
   "cell_type": "code",
   "execution_count": 28,
   "metadata": {
    "scrolled": true
   },
   "outputs": [],
   "source": [
    "labels = ['C', 'C#', 'D', 'D#', 'E', 'F', 'F#', 'G', 'G#', 'A', 'A#', 'B']\n",
    "transpose_matrix = generate_transpose_matrix(labels)\n",
    "\n",
    "for dirpath, dirnames, filenames in os.walk(os.path.join(OUTPUT_DIR, 'chords')):\n",
    "        for filename in filenames:\n",
    "            \n",
    "            filename_tonation = filename.split('.')[0]\n",
    "            transpose_row = transpose_matrix[transpose_matrix[0] == filename_tonation]\n",
    "            \n",
    "            for step in transpose_row.columns:\n",
    "                output_path = os.path.join(OUTPUT_DIR, 'labels', transpose_row[step].values[0], dirpath.split('\\\\')[-1] + '_from_{}'.format(filename_tonation) + '.wav' )\n",
    "                AudioDA.transpose_wav_file(path_input = os.path.join(dirpath, filename),\n",
    "                                           path_output= output_path, \n",
    "                                           n_steps=step)                "
   ]
  },
  {
   "cell_type": "markdown",
   "metadata": {},
   "source": [
    "Generujemy dane w różnych tempach"
   ]
  },
  {
   "cell_type": "code",
   "execution_count": 33,
   "metadata": {},
   "outputs": [],
   "source": [
    "for dirpath, dirnames, filenames in os.walk(os.path.join(OUTPUT_DIR, 'labels')):\n",
    "    for filename in filenames:\n",
    "        \n",
    "        filename_wo_wav = filename.split('.')[0]\n",
    "                \n",
    "        for time_rate in np.linspace(0.75, 1.25, 11):\n",
    "            \n",
    "            output_path = os.path.join(dirpath, filename_wo_wav + '_{}'.format(str(time_rate).replace('.','_')) + '.wav')\n",
    "            AudioDA.chtime_wav_file(path_input = os.path.join(dirpath, filename),\n",
    "                                    path_output= output_path,\n",
    "                                    rate = time_rate)                "
   ]
  }
 ],
 "metadata": {
  "kernelspec": {
   "display_name": "Python 3",
   "language": "python",
   "name": "python3"
  },
  "language_info": {
   "codemirror_mode": {
    "name": "ipython",
    "version": 3
   },
   "file_extension": ".py",
   "mimetype": "text/x-python",
   "name": "python",
   "nbconvert_exporter": "python",
   "pygments_lexer": "ipython3",
   "version": "3.7.4"
  }
 },
 "nbformat": 4,
 "nbformat_minor": 2
}
