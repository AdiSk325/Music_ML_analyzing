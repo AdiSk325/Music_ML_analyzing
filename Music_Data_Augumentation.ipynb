{
  "nbformat": 4,
  "nbformat_minor": 0,
  "metadata": {
    "kernelspec": {
      "display_name": "Python 3",
      "language": "python",
      "name": "python3"
    },
    "language_info": {
      "codemirror_mode": {
        "name": "ipython",
        "version": 3
      },
      "file_extension": ".py",
      "mimetype": "text/x-python",
      "name": "python",
      "nbconvert_exporter": "python",
      "pygments_lexer": "ipython3",
      "version": "3.7.4"
    },
    "colab": {
      "name": "Music_Data_Augumentation.ipynb",
      "provenance": [],
      "include_colab_link": true
    }
  },
  "cells": [
    {
      "cell_type": "markdown",
      "metadata": {
        "id": "view-in-github",
        "colab_type": "text"
      },
      "source": [
        "<a href=\"https://colab.research.google.com/github/AdiSk325/Music_ML_analyzing/blob/master/Music_Data_Augumentation.ipynb\" target=\"_parent\"><img src=\"https://colab.research.google.com/assets/colab-badge.svg\" alt=\"Open In Colab\"/></a>"
      ]
    },
    {
      "cell_type": "code",
      "metadata": {
        "id": "ZjP5_KoUUJNr",
        "colab_type": "code",
        "colab": {}
      },
      "source": [
        "import os\n",
        "import pandas as pd\n",
        "import numpy as np\n",
        "\n",
        "import soundfile as sf\n",
        "import librosa"
      ],
      "execution_count": 0,
      "outputs": []
    },
    {
      "cell_type": "code",
      "metadata": {
        "id": "ZkRTjnXpXM_U",
        "colab_type": "code",
        "colab": {}
      },
      "source": [
        "def transpose_wav_file(path_input, path_output, n_steps):\n",
        "  x, sr = librosa.load(path_input)\n",
        "  y = librosa.effects.pitch_shift(x, sr, n_steps=n_steps)\n",
        "  sf.write(path_output, y, sr, 'PCM_16')\n",
        "  #print(f'File {path_input} was transposed to file {path_output}')\n",
        "  return None\n",
        "    \n",
        "def chtime_wav_file(path_input, path_output, rate):\n",
        "                           \n",
        "  x, sr = librosa.load(path_input)\n",
        "  y = librosa.effects.time_stretch(x, rate)\n",
        "  sf.write(path_output, y, sr, 'PCM_16')\n",
        "  #print(f'File {path_input} was chtime to file {path_output}')\n",
        "        \n",
        "  return None"
      ],
      "execution_count": 0,
      "outputs": []
    },
    {
      "cell_type": "code",
      "metadata": {
        "id": "NfVO-m_yT_qa",
        "colab_type": "code",
        "colab": {}
      },
      "source": [
        "HOME_DIR = '.'\n",
        "DATA_DIR = os.path.join(HOME_DIR, 'data')\n",
        "INPUT_DIR = os.path.realpath(DATA_DIR) + '//'\n",
        "OUTPUT_DIR = os.path.realpath(os.path.join(HOME_DIR,'augument_data')) + '//'"
      ],
      "execution_count": 0,
      "outputs": []
    },
    {
      "cell_type": "code",
      "metadata": {
        "id": "F9Y_3g8TT_qe",
        "colab_type": "code",
        "colab": {
          "base_uri": "https://localhost:8080/",
          "height": 50
        },
        "outputId": "365bce18-8f96-4789-c6a6-86337f1c6bf5"
      },
      "source": [
        "print(INPUT_DIR)\n",
        "print(OUTPUT_DIR)"
      ],
      "execution_count": 184,
      "outputs": [
        {
          "output_type": "stream",
          "text": [
            "/content/drive/My Drive/GIT/Music_ML_analyzing/data//\n",
            "/content/drive/My Drive/GIT/Music_ML_analyzing/augument_data//\n"
          ],
          "name": "stdout"
        }
      ]
    },
    {
      "cell_type": "code",
      "metadata": {
        "id": "7kk5z2_dT_qj",
        "colab_type": "code",
        "colab": {}
      },
      "source": [
        "def clone_input_dir_structure(INPUT_DIR, OUTPUT_DIR):\n",
        "    for dirpath, dirnames, filenames in os.walk(INPUT_DIR):\n",
        "        structure = os.path.realpath(os.path.join(OUTPUT_DIR, dirpath[len(INPUT_DIR):]))\n",
        "        if not os.path.isdir(structure):\n",
        "            os.mkdir(structure)\n",
        "        else:\n",
        "            print(f\"{structure} \\n This folder does already exits! \\n ----------------------------------------------- \\n\")"
      ],
      "execution_count": 0,
      "outputs": []
    },
    {
      "cell_type": "code",
      "metadata": {
        "scrolled": true,
        "id": "YgqMFDutT_qm",
        "colab_type": "code",
        "colab": {}
      },
      "source": [
        "clone_input_dir_structure(INPUT_DIR, OUTPUT_DIR)"
      ],
      "execution_count": 0,
      "outputs": []
    },
    {
      "cell_type": "code",
      "metadata": {
        "id": "fCTfIJd6T_qo",
        "colab_type": "code",
        "colab": {}
      },
      "source": [
        "def create_new_data_from_raw_input(INPUT_DIR, OUTPUT_DIR):\n",
        "    for dirpath, dirnames, filenames in os.walk(INPUT_DIR):\n",
        "            for filename in filenames: \n",
        "                if '.wav' in filename:\n",
        "                    new_subdir = ''\n",
        "                    output_path = os.path.join(OUTPUT_DIR, dirpath[len(INPUT_DIR):], new_subdir, filename)\n",
        "                    transpose_wav_file(path_input = os.path.join(dirpath, filename),\n",
        "                                               path_output = output_path,\n",
        "                                               n_steps=0)\n",
        "                    "
      ],
      "execution_count": 0,
      "outputs": []
    },
    {
      "cell_type": "code",
      "metadata": {
        "id": "KArqviJcT_qr",
        "colab_type": "code",
        "colab": {}
      },
      "source": [
        "create_new_data_from_raw_input(INPUT_DIR, OUTPUT_DIR)"
      ],
      "execution_count": 0,
      "outputs": []
    },
    {
      "cell_type": "code",
      "metadata": {
        "id": "UzgPghxHT_qt",
        "colab_type": "code",
        "colab": {}
      },
      "source": [
        "def generate_transpose_matrix(labels):\n",
        "    result_mtx = pd.DataFrame(labels)\n",
        "    for idx, label in enumerate(labels):\n",
        "        labels.append(labels.pop(0))\n",
        "        result_mtx[idx+1] = pd.Series(labels)\n",
        "    return result_mtx"
      ],
      "execution_count": 0,
      "outputs": []
    },
    {
      "cell_type": "code",
      "metadata": {
        "id": "SCr5Sl0kT_qw",
        "colab_type": "code",
        "colab": {}
      },
      "source": [
        "if not os.path.exists(os.path.join(OUTPUT_DIR, 'labels')):\n",
        "    os.mkdir(os.path.join(OUTPUT_DIR, 'labels'))\n",
        "\n",
        "for label in ['C', 'C#', 'D', 'D#', 'E', 'F', 'F#', 'G', 'G#', 'A', 'A#', 'B']:\n",
        "    if not os.path.exists(os.path.join(OUTPUT_DIR, 'labels', label)):\n",
        "        os.mkdir(os.path.join(OUTPUT_DIR, 'labels', label))"
      ],
      "execution_count": 0,
      "outputs": []
    },
    {
      "cell_type": "markdown",
      "metadata": {
        "id": "O1_zMYX9T_qz",
        "colab_type": "text"
      },
      "source": [
        "Transponujemy nagrania do odpowiednich tonacji"
      ]
    },
    {
      "cell_type": "code",
      "metadata": {
        "scrolled": true,
        "id": "ykKbIKhtT_qz",
        "colab_type": "code",
        "colab": {}
      },
      "source": [
        "labels = ['C', 'C#', 'D', 'D#', 'E', 'F', 'F#', 'G', 'G#', 'A', 'A#', 'B']\n",
        "transpose_matrix = generate_transpose_matrix(labels)\n",
        "\n",
        "for dirpath, dirnames, filenames in os.walk(os.path.join(OUTPUT_DIR, 'chords', 'major')):\n",
        "        for filename in filenames:\n",
        "            \n",
        "            filename_tonation = filename.split('.')[0]\n",
        "            transpose_row = transpose_matrix[transpose_matrix[0] == filename_tonation]\n",
        "            \n",
        "            for step in transpose_row.columns:\n",
        "                output_path = os.path.join(OUTPUT_DIR, 'labels', transpose_row[step].values[0], dirpath.split('/')[-2] + '_' + dirpath.split('/')[-1] + '_from_{}'.format(filename_tonation) + '.wav' )\n",
        "                transpose_wav_file(path_input = os.path.join(dirpath, filename),\n",
        "                                           path_output= output_path, \n",
        "                                           n_steps=step)                "
      ],
      "execution_count": 0,
      "outputs": []
    },
    {
      "cell_type": "markdown",
      "metadata": {
        "id": "QcbHkNeAT_q1",
        "colab_type": "text"
      },
      "source": [
        "Generujemy dane w różnych tempach"
      ]
    },
    {
      "cell_type": "code",
      "metadata": {
        "id": "9y3dxbLaT_q2",
        "colab_type": "code",
        "colab": {}
      },
      "source": [
        "for dirpath, dirnames, filenames in os.walk(os.path.join(OUTPUT_DIR, 'labels')):\n",
        "    for filename in filenames:\n",
        "        \n",
        "        filename_wo_wav = filename.split('.')[0]\n",
        "                \n",
        "        for time_rate in np.linspace(0.75, 1.25, 11):\n",
        "            \n",
        "            output_path = os.path.join(dirpath, filename_wo_wav + '_{}'.format(str(time_rate).replace('.','_')) + '.wav')\n",
        "            chtime_wav_file(path_input = os.path.join(dirpath, filename),\n",
        "                                    path_output= output_path,\n",
        "                                    rate = time_rate)                "
      ],
      "execution_count": 0,
      "outputs": []
    }
  ]
}